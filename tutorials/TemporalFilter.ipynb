{
 "cells": [
  {
   "cell_type": "code",
   "execution_count": 1,
   "id": "21c73db8",
   "metadata": {},
   "outputs": [],
   "source": [
    "%matplotlib inline\n",
    "%load_ext autoreload\n",
    "%autoreload 2\n",
    "\n",
    "import matplotlib.pyplot as plt\n",
    "import time\n",
    "\n",
    "# load the modules specific to this project\n",
    "from context import networker as nw\n",
    "from context import physics\n",
    "from context import timemarching as tm\n",
    "from context import plotter\n",
    "from context import logger\n",
    "\n",
    "plt.rcParams['figure.dpi'] = 100 # 200 e.g. is really fine, but slower"
   ]
  },
  {
   "cell_type": "markdown",
   "id": "9aba5fa9",
   "metadata": {},
   "source": [
    "### 1. Define the layers\n",
    "Define the layers of nodes in terms of how they are connected to the channels. Layers and weights are organized in dictionaries. The input and output layers do not need to be changed, but for the hidden layer we need to specify the number of nodes N and assign the correct channels to the input/output of the node."
   ]
  },
  {
   "cell_type": "code",
   "execution_count": 2,
   "id": "95fec77f",
   "metadata": {},
   "outputs": [],
   "source": [
    "# Create layers ordered from 0 organized in a dictionary. Arbitrary labels can be used, i.e. 'TB1','CPU4' etc.\n",
    "layers = {} \n",
    "# An input layer automatically creates on node for each channel that we define\n",
    "layers[0] = nw.InputLayer(N=1)\n",
    "# Forward signal layer\n",
    "layers[1] = nw.HiddenLayer(N=1, output_channel='blue',excitation_channel='blue',inhibition_channel='red')\n",
    "# Inhibiting memory layer\n",
    "layers[2] = nw.HiddenLayer(N=1, output_channel='red' ,excitation_channel='blue',inhibition_channel='red')\n",
    "layers[3] = nw.OutputLayer(N=1) # similar to input layer"
   ]
  },
  {
   "cell_type": "markdown",
   "id": "0f2b843f",
   "metadata": {},
   "source": [
    "### 2. Define abstract connections between layers\n",
    "First, we define which layers are connected to which. The explicit weights\n",
    "are set in the next step.\n",
    "The weights are set in two steps. \n",
    "First the connetions between layers are defined. This should be done using the keys defined for each layer above, i.e. 0, 1, 2 ... for input, hidden and output layers, respectively. The `connect_layers` function returns a weight matrix object that we store under a chosen key, for example `'inp->hid'`.\n",
    "Second, the specific connections on the node-to-node level are specified using the node index in each layer"
   ]
  },
  {
   "cell_type": "code",
   "execution_count": 3,
   "id": "e8319f41",
   "metadata": {},
   "outputs": [],
   "source": [
    "# Define the overall connectivity\n",
    "weights = {}\n",
    "# The syntax is connect_layers(from_layer, to_layer, layers, channel)\n",
    "weights['inp->hd0'] = nw.connect_layers(0, 1, layers, channel='blue')\n",
    "weights['hd0->hd1'] = nw.connect_layers(1, 2, layers, channel='blue')\n",
    "weights['hd0->out'] = nw.connect_layers(1, 3, layers, channel='blue')\n",
    "# Backwards connection from the memory\n",
    "weights['hd1->hd0'] = nw.connect_layers(2, 1, layers, channel='red')"
   ]
  },
  {
   "cell_type": "markdown",
   "id": "0fa17461",
   "metadata": {},
   "source": [
    "### 3. Define the specific connections\n",
    "Here, the specific connections on the node-to-node level are specified using the node index in each layer.\n",
    "Weights can also be set using a matrix (a bit boring here but possible)"
   ]
  },
  {
   "cell_type": "code",
   "execution_count": 4,
   "id": "7bb9b9d4",
   "metadata": {
    "lines_to_next_cell": 2
   },
   "outputs": [],
   "source": [
    "# Define the specific node-to-node connections in the weight matrices\n",
    "# -----------------------------------------\n",
    "# Input to first ring layer node\n",
    "weights['inp->hd0'].connect_nodes(0 ,0,weight=1.0) # channels['blue']=1\n",
    "#weights['inp->hd0'].connect_nodes(channels['red'] ,0, channel='red', weight=1.0) # channels['blue']=1\n",
    "# Hidden layer connections\n",
    "weights['hd0->hd1'].connect_nodes(0 ,0 , weight=1.0) \n",
    "# Add damping connection\n",
    "weights['hd1->hd0'].connect_nodes(0 ,0 , weight=1.0)    \n",
    "# Connect to output, we can also use matrices\n",
    "import numpy as np\n",
    "weight_mat = np.array([[0.9]])\n",
    "weights['hd0->out'].set_W(weight_mat)"
   ]
  },
  {
   "cell_type": "markdown",
   "id": "411c375c",
   "metadata": {},
   "source": [
    "### 4. Visualize the network \n",
    "The `plotter` module supplies functions to visualize the network structure. The nodes are named by the layer type (Input, Hidden or Output) and the index. To supress the printing of weight values on each connection, please supply `show_edge_labels=False`.\n",
    "\n",
    "#### Available layouts:\n",
    "**multipartite**: Standard neural network appearance. Hard to see recurrent couplings within layers.  \n",
    "**circular**: Nodes drawn as a circle  \n",
    "**shell**: Layers drawn as concetric circles  \n",
    "**kamada_kawai**: Optimization to minimize weighted internode distance in graph  \n",
    "**spring**: Spring layout which is standard in `networkx` \n",
    "\n",
    "#### Shell layout\n",
    "This is my current favorite. It is configured to plot the input and output nodes on the outside of the hidden layer circle, in a combined outer concentric circle."
   ]
  },
  {
   "cell_type": "code",
   "execution_count": 5,
   "id": "4472a777",
   "metadata": {},
   "outputs": [
    {
     "data": {
      "image/png": "[encoded data removed]",
      "text/plain": [
       "<Figure size 600x400 with 1 Axes>"
      ]
     },
     "metadata": {},
     "output_type": "display_data"
    },
    {
     "data": {
      "text/plain": [
       "{'K0': array([0., 0.]),\n",
       " 'H0': array([-0.16666669,  0.28867513]),\n",
       " 'I0': array([-6.66666687e-01, -5.82818522e-08]),\n",
       " 'O0': array([6.66666687e-01, 1.16563704e-07])}"
      ]
     },
     "execution_count": 5,
     "metadata": {},
     "output_type": "execute_result"
    }
   ],
   "source": [
    "plotter.visualize_network(layers, weights, layout='shell',\n",
    "                          show_edge_labels=False,#shell_order=[1,[2,3],[0,4]],\n",
    "                          savefig=True)"
   ]
  },
  {
   "cell_type": "markdown",
   "id": "dcc57cde",
   "metadata": {},
   "source": [
    "### 5. Specify the physics of the nodes\n",
    "Before running any simulations, we need to specify the input currents and the physics of the hidden layer nodes. Parameters can either be specified directly or coupled from the `physics` module. "
   ]
  },
  {
   "cell_type": "code",
   "execution_count": 6,
   "id": "3a1edb03",
   "metadata": {},
   "outputs": [
    {
     "name": "stdout",
     "output_type": "stream",
     "text": [
      "The parameter Rstore=2000000.0 Ohm\n",
      "The parameter Rstore=20000000.0 Ohm\n"
     ]
    }
   ],
   "source": [
    "# Specify two types of devices for the hidden layer\n",
    "# 1. Propagator (standard parameters)\n",
    "propagator = physics.Device('../parameters/device_parameters.txt')\n",
    "\n",
    "propagator.print_parameter('Rstore')\n",
    "# 2. Memory (modify the parameters)\n",
    "memory = physics.Device('../parameters/device_parameters.txt')\n",
    "memory.set_parameter('Rstore',2e7) # Ohms, original value us 2e6 Ohms\n",
    "memory.print_parameter('Rstore')"
   ]
  },
  {
   "cell_type": "code",
   "execution_count": 7,
   "id": "c9d31f63",
   "metadata": {},
   "outputs": [
    {
     "name": "stdout",
     "output_type": "stream",
     "text": [
      "Unity coupling coefficient calculated as unity_coeff=0.0254\n",
      "Imax is found to be 374.995312558593 nA\n"
     ]
    }
   ],
   "source": [
    "# Specify the internal dynamics by supplying the RC constants to the hidden layer (six parameters)\n",
    "layers[1].assign_device(propagator)\n",
    "layers[2].assign_device(memory)\n",
    "# Tweak the threshold voltage\n",
    "Vthres=1.0\n",
    "layers[1].Vthres=Vthres\n",
    "layers[2].Vthres=Vthres\n",
    "\n",
    "# Calculate the unity_coeff to scale the weights accordingly\n",
    "unity_coeff, Imax = propagator.inverse_gain_coefficient(propagator.eta_ABC, Vthres)\n",
    "print(f'Unity coupling coefficient calculated as unity_coeff={unity_coeff:.4f}')\n",
    "print(f'Imax is found to be {Imax} nA')"
   ]
  },
  {
   "cell_type": "code",
   "execution_count": 8,
   "id": "8dc4151e",
   "metadata": {},
   "outputs": [],
   "source": [
    "# Specify an exciting current square pulse and a constant inhibition\n",
    "# Pulse train of 1 ns pulses\n",
    "t_blue = [(5.0,15.0)]#, (255.0,455.0)] # \n",
    "\n",
    "# Use the square pulse function and specify which node in the input layer gets which pulse\n",
    "layers[0].set_input_vector_func(func_handle=physics.square_pulse, func_args=(t_blue, 1.0*Imax))"
   ]
  },
  {
   "cell_type": "markdown",
   "id": "81369f55",
   "metadata": {},
   "source": [
    "Produce Bode plots to determine what our frequency cutoff will be"
   ]
  },
  {
   "cell_type": "code",
   "execution_count": 9,
   "id": "4478cebe",
   "metadata": {},
   "outputs": [
    {
     "name": "stdout",
     "output_type": "stream",
     "text": [
      "System eigenvalues:\n",
      "eig[0]=-25.24 ns^-1 \n",
      "eig[1]=-5.00 ns^-1 \n",
      "eig[2]=-0.59 ns^-1 \n",
      "eig[3]=-5.00 ns^-1 \n"
     ]
    }
   ],
   "source": [
    "# Setup the gain function\n",
    "eigvals = propagator.setup_gain(propagator.gammas)\n",
    "\n",
    "# The eigenvalues\n",
    "print('System eigenvalues:')\n",
    "k=0\n",
    "for l in eigvals :\n",
    "    print(f'eig[{k}]={l:.2f} ns^-1 ')\n",
    "    k+=1\n",
    "# Regarding the eigenvalues, eig[0]=-25.81 ns^-1, eig[1]=-5.00 ns^-1, eig[2]=-0.19 ns^-1\n",
    "# eig[1] regards the charge collecting subsystem, this is their RC constant\n",
    "# eig[0] regards the exchange between the collectors and the storage, I believe. For A33=20 it's zero\n",
    "# eig[2] regards the time scale of the storage unit, the longest timescale in the system.\n",
    "    \n",
    "# PUT THIS IN THE PLOTTER MODULE\n",
    "import numpy as np\n",
    "# Visualize the response function \n",
    "Ns = 100\n",
    "# Units are already in GHz so this creates a space from 1 MHz to 10 GHz\n",
    "s_exp = np.linspace(-5,1,Ns)\n",
    "s = 1j*10**s_exp\n",
    "\n",
    "# Sample the gain function\n",
    "G11, _ = propagator.gain(s,eigvals,propagator.gammas)\n",
    "\n",
    "mag_G11 = np.absolute(G11) / np.absolute(G11[0])\n",
    "arg_G11 = np.angle(G11)\n",
    "\n",
    "mag_G11_dB = 20*np.log10(mag_G11)"
   ]
  },
  {
   "cell_type": "code",
   "execution_count": 10,
   "id": "1d4702a9",
   "metadata": {},
   "outputs": [
    {
     "data": {
      "image/png": "[encoded data removed]",
      "text/plain": [
       "<Figure size 720.472x350.394 with 2 Axes>"
      ]
     },
     "metadata": {
      "needs_background": "light"
     },
     "output_type": "display_data"
    }
   ],
   "source": [
    "# Produce Bode plots of the results\n",
    "# Define parameters\n",
    "my_dpi = 300\n",
    "prop_cycle = plt.rcParams['axes.prop_cycle']\n",
    "colors = prop_cycle.by_key()['color']\n",
    "\n",
    "# Figure sizes\n",
    "inchmm = 25.4\n",
    "nature_single = 89.0 / 25.4\n",
    "nature_double = 183.0 / 25.4\n",
    "nature_full = 247.0 / 25.4\n",
    "\n",
    "# Plot options\n",
    "font = {'family' : 'sans',\n",
    "        'weight' : 'normal',\n",
    "        'size'   : 12}\n",
    "plt.rc('font', **font)\n",
    "\n",
    "fig, (ax1, ax2) = plt.subplots(2,1,figsize=(nature_double,nature_single),sharex=True)\n",
    "\n",
    "f_min = abs(s[0])\n",
    "plot_f_max = 3.0 # GHz\n",
    "\n",
    "ax1.plot(abs(s),mag_G11_dB)\n",
    "ax1.plot([f_min,plot_f_max],[-3,-3],'k--')\n",
    "ax1.grid('True')\n",
    "ax1.set_xscale('log')\n",
    "ax1.set_title('Bode plots for dynamic node')\n",
    "#ax1.set_xlabel('Frequency (GHz)')\n",
    "ax1.set_ylabel('|G11|/|G11[0]| (dB)')\n",
    "ax1.set_ylabel('|H| (dB)')\n",
    "ax1.set_xlim(f_min,plot_f_max)\n",
    "ax1.set_ylim(-20,2)\n",
    "\n",
    "ax2.plot(abs(s),arg_G11*180/np.pi)\n",
    "ax2.grid('True')\n",
    "#ax2.set_xscale('log')\n",
    "ax2.set_xlabel('Frequency (GHz)')\n",
    "ax2.set_ylabel('Phase (radians)')\n",
    "ax2.set_ylim(-180,10)\n",
    "\n",
    "plt.show()"
   ]
  },
  {
   "cell_type": "markdown",
   "id": "4d3d0192",
   "metadata": {},
   "source": [
    "### 6. Evolve in time"
   ]
  },
  {
   "cell_type": "code",
   "execution_count": null,
   "id": "f969b899",
   "metadata": {},
   "outputs": [],
   "source": [
    "# Start time t, end time T\n",
    "t = 0.0\n",
    "T = 100.0 # ns\n",
    "# To sample result over a fixed time-step, use savetime\n",
    "savestep = 1.0\n",
    "savetime = savestep\n",
    "# These parameters are used to determine an appropriate time step each update\n",
    "dtmax = 0.1 # ns \n",
    "dVmax = 0.001 # V\n",
    "\n",
    "nw.reset(layers)\n",
    "# Create a log over the dynamic data\n",
    "time_log = logger.Logger(layers) # might need some flags\n",
    "\n",
    "start = time.time()\n",
    "\n",
    "while t < T:\n",
    "    # evolve by calculating derivatives, provides dt\n",
    "    dt = tm.evolve(t, layers, dVmax, dtmax )\n",
    "\n",
    "    # update with explicit Euler using dt\n",
    "    # supplying the unity_coeff here to scale the weights\n",
    "    tm.update(dt, t, layers, weights, unity_coeff)\n",
    "    \n",
    "    t += dt\n",
    "    # Log the progress\n",
    "    if t > savetime :\n",
    "        # Put log update here to have (more or less) fixed sample rate\n",
    "        # Now this is only to check progress\n",
    "        print(f'Time at t={t} ns') \n",
    "        savetime += savestep\n",
    "    \n",
    "    time_log.add_tstep(t, layers, unity_coeff)\n",
    "\n",
    "end = time.time()\n",
    "print('Time used:',end-start)\n",
    "\n",
    "# This is a large pandas data frame of all system variables\n",
    "result = time_log.get_timelog()"
   ]
  },
  {
   "cell_type": "markdown",
   "id": "26c1053a",
   "metadata": {},
   "source": [
    "### 7. Visualize results\n",
    "Plot results specific to certain nodes"
   ]
  },
  {
   "cell_type": "code",
   "execution_count": null,
   "id": "4a4a79f1",
   "metadata": {},
   "outputs": [],
   "source": [
    "#nodes = ['H0','H1','H2','H3','H4']\n",
    "\n",
    "nodes = ['H0','K0']\n",
    "plotter.plot_nodes(result, nodes, onecolumn=True)"
   ]
  },
  {
   "cell_type": "markdown",
   "id": "8d05a02c",
   "metadata": {},
   "source": [
    "For this system it's quite elegant to use the `plot_chainlist` function, taking as arguments a graph object, the source node (I1 for blue) and a target node (O1 for blue)"
   ]
  },
  {
   "cell_type": "code",
   "execution_count": null,
   "id": "2eda11fd",
   "metadata": {
    "lines_to_next_cell": 2
   },
   "outputs": [],
   "source": [
    "# Variable G contains a graph object descibing the network\n",
    "G = plotter.retrieve_G(layers, weights)\n",
    "plotter.plot_chainlist(result,G,'I0','K0')"
   ]
  },
  {
   "cell_type": "markdown",
   "id": "04658894",
   "metadata": {},
   "source": [
    "Plot specific attributes"
   ]
  },
  {
   "cell_type": "code",
   "execution_count": null,
   "id": "d360f6bc",
   "metadata": {},
   "outputs": [],
   "source": [
    "attr_list = ['Vgate','Vexc']\n",
    "plotter.plot_attributes(result, attr_list)"
   ]
  },
  {
   "cell_type": "markdown",
   "id": "6f07ae30",
   "metadata": {},
   "source": [
    "We can be totally specific if we want. First we list the available columns to choose from"
   ]
  },
  {
   "cell_type": "code",
   "execution_count": null,
   "id": "4f1bb32c",
   "metadata": {},
   "outputs": [],
   "source": [
    "print(result.columns)"
   ]
  },
  {
   "cell_type": "code",
   "execution_count": null,
   "id": "d70bf23e",
   "metadata": {},
   "outputs": [],
   "source": [
    "plotter.visualize_dynamic_result(result, ['H0-Iout','H0-Pout'])"
   ]
  },
  {
   "cell_type": "markdown",
   "id": "d1fd449b",
   "metadata": {},
   "source": [
    "We can also look in depth at the physical aspects of the node, like transistor IV and the LED efficiency."
   ]
  },
  {
   "cell_type": "code",
   "execution_count": null,
   "id": "c35c623a",
   "metadata": {},
   "outputs": [],
   "source": [
    "plotter.visualize_transistor(propagator.transistorIV_example())"
   ]
  },
  {
   "cell_type": "code",
   "execution_count": null,
   "id": "76a38561",
   "metadata": {},
   "outputs": [],
   "source": [
    "plotter.visualize_LED_efficiency(propagator.eta_example(propagator.eta_ABC))"
   ]
  },
  {
   "cell_type": "code",
   "execution_count": null,
   "id": "7d0b2fba",
   "metadata": {},
   "outputs": [],
   "source": [
    "tau_memory = memory.calc_tau_gate() # 0.056 ns\n",
    "tau_propagator = propagator.calc_tau_gate()\n",
    "gammas_memory = memory.calc_gammas()\n",
    "gammas_propagator = propagator.calc_gammas()"
   ]
  }
 ],
 "metadata": {
  "jupytext": {
   "formats": "ipynb,py:percent"
  },
  "kernelspec": {
   "display_name": "Python 3",
   "language": "python",
   "name": "python3"
  },
  "language_info": {
   "codemirror_mode": {
    "name": "ipython",
    "version": 3
   },
   "file_extension": ".py",
   "mimetype": "text/x-python",
   "name": "python",
   "nbconvert_exporter": "python",
   "pygments_lexer": "ipython3",
   "version": "3.9.7"
  }
 },
 "nbformat": 4,
 "nbformat_minor": 5
}
