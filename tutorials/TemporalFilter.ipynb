{
 "cells": [
  {
   "cell_type": "code",
   "execution_count": null,
   "id": "b490fbfe",
   "metadata": {},
   "outputs": [],
   "source": [
    "%matplotlib inline\n",
    "%load_ext autoreload\n",
    "%autoreload 2\n",
    "\n",
    "import matplotlib.pyplot as plt\n",
    "import time\n",
    "\n",
    "# load the modules specific to this project\n",
    "from context import network as nw\n",
    "from context import physics\n",
    "from context import timemarching as tm\n",
    "from context import plotter\n",
    "from context import logger\n",
    "\n",
    "plt.rcParams['figure.dpi'] = 100 # 200 e.g. is really fine, but slower"
   ]
  },
  {
   "cell_type": "markdown",
   "id": "a23a1d43",
   "metadata": {},
   "source": [
    "### 1. Define the broadcasting channels of the network\n",
    "This is done by creating a list of the channel names. The names are arbitrary and can be set by the user, such as 'postive', 'negative' or explicit wavelenghts like '870 nm', '700 nm'. Here I chose the colors 'red' and 'blue'."
   ]
  },
  {
   "cell_type": "code",
   "execution_count": null,
   "id": "f3c42c36",
   "metadata": {},
   "outputs": [],
   "source": [
    "channel_list = ['blue','red']\n",
    "# Automatically generate the object that handles them\n",
    "channels = {channel_list[v] : v for v in range(len(channel_list))}"
   ]
  },
  {
   "cell_type": "markdown",
   "id": "c28d53d2",
   "metadata": {},
   "source": [
    "### 2. Define the layers\n",
    "Define the layers of nodes in terms of how they are connected to the channels. Layers and weights are organized in dictionaries. The input and output layers do not need to be changed, but for the hidden layer we need to specify the number of nodes N and assign the correct channels to the input/output of the node."
   ]
  },
  {
   "cell_type": "code",
   "execution_count": null,
   "id": "90091a50",
   "metadata": {},
   "outputs": [],
   "source": [
    "# Create layers ordered from 0 to P organized in a dictionary\n",
    "layers = {} \n",
    "# An input layer automatically creates on node for each channel that we define\n",
    "layers[0] = nw.InputLayer(N=1)\n",
    "# Forward signal layer\n",
    "layers[1] = nw.HiddenLayer(N=1, output_channel='blue',excitation_channel='blue',inhibition_channel='red')\n",
    "# Inhibiting memory layer\n",
    "layers[2] = nw.HiddenLayer(N=1, output_channel='red' ,excitation_channel='blue',inhibition_channel='red')\n",
    "layers[3] = nw.OutputLayer(N=1) # similar to input layer"
   ]
  },
  {
   "cell_type": "markdown",
   "id": "bfa4f976",
   "metadata": {},
   "source": [
    "### 3. Define existing connections between layers\n",
    "The weights are set in two steps. \n",
    "First the connetions between layers are defined. This should be done using the keys defined for each layer above, i.e. 0, 1, 2 ... for input, hidden and output layers, respectively. The `connect_layers` function returns a weight matrix object that we store under a chosen key, for example `'inp->hid'`.\n",
    "Second, the specific connections on the node-to-node level are specified using the node index in each layer"
   ]
  },
  {
   "cell_type": "code",
   "execution_count": null,
   "id": "6a561d5b",
   "metadata": {
    "lines_to_next_cell": 2
   },
   "outputs": [],
   "source": [
    "# Define the overall connectivity\n",
    "weights = {}\n",
    "# The syntax is connect_layers(from_layer, to_layer, layers, channels)\n",
    "weights['inp->hd0'] = nw.connect_layers(0, 1, layers, channel='blue')\n",
    "weights['hd0->hd1'] = nw.connect_layers(1, 2, layers, channel='blue')\n",
    "weights['hd0->out'] = nw.connect_layers(1, 3, layers, channel='blue')\n",
    "# Backwards connection from the memory\n",
    "weights['hd1->hd0'] = nw.connect_layers(2, 1, layers, channel='red')\n",
    "\n",
    "# Define the specific node-to-node connections in the weight matrices\n",
    "low_weight =  1.0 # 0.02\n",
    "# The syntax is connect_nodes(from_node, to_node, channel=label, weight=value in weight matrix)\n",
    "self_inhib = 1.0\n",
    "# Draw a ring network with Nring nodes (Nring defined above)\n",
    "\n",
    "# Input to first ring layer node\n",
    "weights['inp->hd0'].connect_nodes(0 ,0,weight=1.0) # channels['blue']=1\n",
    "#weights['inp->hd0'].connect_nodes(channels['red'] ,0, channel='red', weight=1.0) # channels['blue']=1\n",
    "# Hidden layer connections\n",
    "weights['hd0->hd1'].connect_nodes(0 ,0 , weight=self_inhib) \n",
    "# Add damping connection\n",
    "weights['hd1->hd0'].connect_nodes(0 ,0 , weight=self_inhib)    \n",
    "# Connect to output\n",
    "weights['hd0->out'].connect_nodes(0, 0, weight=0.9)"
   ]
  },
  {
   "cell_type": "markdown",
   "id": "aec2ea22",
   "metadata": {},
   "source": [
    "### 4. Visualize the network \n",
    "The `plotter` module supplies functions to visualize the network structure. The nodes are named by the layer type (Input, Hidden or Output) and the index. To supress the printing of weight values on each connection, please supply `show_edge_labels=False`.\n",
    "\n",
    "#### Available layouts:\n",
    "**multipartite**: Standard neural network appearance. Hard to see recurrent couplings within layers.  \n",
    "**circular**: Nodes drawn as a circle  \n",
    "**shell**: Layers drawn as concetric circles  \n",
    "**kamada_kawai**: Optimization to minimize weighted internode distance in graph  \n",
    "**spring**: Spring layout which is standard in `networkx` \n",
    "\n",
    "#### Shell layout\n",
    "This is my current favorite. It is configured to plot the input and output nodes on the outside of the hidden layer circle, in a combined outer concentric circle."
   ]
  },
  {
   "cell_type": "code",
   "execution_count": null,
   "id": "feb8bd38",
   "metadata": {},
   "outputs": [],
   "source": [
    "plotter.visualize_network(layers, weights, layout='shell',\n",
    "                          show_edge_labels=False,#shell_order=[1,[2,3],[0,4]],\n",
    "                          savefig=True)"
   ]
  },
  {
   "cell_type": "markdown",
   "id": "b8078e3f",
   "metadata": {},
   "source": [
    "### 5. Specify the physics of the nodes\n",
    "Before running any simulations, we need to specify the input currents and the physics of the hidden layer nodes. Parameters can either be specified directly or coupled from the `physics` module. "
   ]
  },
  {
   "cell_type": "code",
   "execution_count": null,
   "id": "5a8c99fb",
   "metadata": {},
   "outputs": [],
   "source": [
    "# Specify two types of devices for the hidden layer\n",
    "# 1. Propagator (standard parameters)\n",
    "propagator = physics.Device('../parameters/device_parameters.txt')\n",
    "propagator.print_parameter('Rstore')\n",
    "# 2. Memory (modify the parameters)\n",
    "memory = physics.Device('../parameters/device_parameters.txt')\n",
    "memory.set_parameter('Rstore',2e7)\n",
    "memory.print_parameter('Rstore')"
   ]
  },
  {
   "cell_type": "code",
   "execution_count": null,
   "id": "561730b0",
   "metadata": {},
   "outputs": [],
   "source": [
    "# Specify the internal dynamics by supplying the RC constants to the hidden layer (six parameters)\n",
    "layers[1].assign_device(propagator)\n",
    "layers[2].assign_device(memory)\n",
    "# Tweak the threshold voltage\n",
    "Vthres=1.0\n",
    "layers[1].Vthres=Vthres\n",
    "layers[2].Vthres=Vthres\n",
    "\n",
    "# Calculate the unity_coeff to scale the weights accordingly\n",
    "unity_coeff, Imax = propagator.inverse_gain_coefficient(propagator.eta_ABC, Vthres)\n",
    "print(f'Unity coupling coefficient calculated as unity_coeff={unity_coeff:.4f}')\n",
    "print(f'Imax is found to be {Imax} nA')"
   ]
  },
  {
   "cell_type": "code",
   "execution_count": null,
   "id": "8718d6a7",
   "metadata": {
    "lines_to_next_cell": 2
   },
   "outputs": [],
   "source": [
    "# Specify an exciting current square pulse and a constant inhibition\n",
    "# Pulse train of 1 ns pulses\n",
    "t_blue = [(6.0,8.0), (11.0,13.0), (16.0,18.0)] # at 6 ns, 11 ns, and 16 ns\n",
    "\n",
    "# Use the square pulse function and specify which node in the input layer gets which pulse\n",
    "layers[0].set_input_vector_func(func_handle=physics.square_pulse, func_args=(t_blue, 1.0*Imax))"
   ]
  },
  {
   "cell_type": "markdown",
   "id": "3619aadb",
   "metadata": {},
   "source": [
    "### 6. Evolve in time"
   ]
  },
  {
   "cell_type": "code",
   "execution_count": null,
   "id": "a75c3551",
   "metadata": {},
   "outputs": [],
   "source": [
    "# Start time t, end time T\n",
    "t = 0.0\n",
    "T = 20.0 # ns\n",
    "# To sample result over a fixed time-step, use savetime\n",
    "savestep = 0.1\n",
    "savetime = savestep\n",
    "# These parameters are used to determine an appropriate time step each update\n",
    "dtmax = 0.1 # ns \n",
    "dVmax = 0.005 # V\n",
    "\n",
    "nw.reset(layers)\n",
    "# Create a log over the dynamic data\n",
    "time_log = logger.Logger(layers,channels) # might need some flags\n",
    "\n",
    "start = time.time()\n",
    "\n",
    "while t < T:\n",
    "    # evolve by calculating derivatives, provides dt\n",
    "    dt = tm.evolve(t, layers, dVmax, dtmax )\n",
    "\n",
    "    # update with explicit Euler using dt\n",
    "    # supplying the unity_coeff here to scale the weights\n",
    "    tm.update(dt, t, layers, weights, unity_coeff)\n",
    "    \n",
    "    t += dt\n",
    "    # Log the progress\n",
    "    if t > savetime :\n",
    "        # Put log update here to have (more or less) fixed sample rate\n",
    "        # Now this is only to check progress\n",
    "        print(f'Time at t={t} ns') \n",
    "        savetime += savestep\n",
    "    \n",
    "    time_log.add_tstep(t, layers, unity_coeff)\n",
    "\n",
    "end = time.time()\n",
    "print('Time used:',end-start)\n",
    "\n",
    "# This is a large pandas data frame of all system variables\n",
    "result = time_log.get_timelog()"
   ]
  },
  {
   "cell_type": "markdown",
   "id": "c124d4fc",
   "metadata": {},
   "source": [
    "### 7. Visualize results\n",
    "Plot results specific to certain nodes"
   ]
  },
  {
   "cell_type": "code",
   "execution_count": null,
   "id": "379e6a41",
   "metadata": {},
   "outputs": [],
   "source": [
    "#nodes = ['H0','H1','H2','H3','H4']\n",
    "\n",
    "nodes = ['H0','K0']\n",
    "plotter.plot_nodes(result, nodes, onecolumn=True)"
   ]
  },
  {
   "cell_type": "markdown",
   "id": "f9a3199c",
   "metadata": {},
   "source": [
    "For this system it's quite elegant to use the `plot_chainlist` function, taking as arguments a graph object, the source node (I1 for blue) and a target node (O1 for blue)"
   ]
  },
  {
   "cell_type": "code",
   "execution_count": null,
   "id": "ff58ab2a",
   "metadata": {
    "lines_to_next_cell": 2
   },
   "outputs": [],
   "source": [
    "# Variable G contains a graph object descibing the network\n",
    "G = plotter.retrieve_G(layers, weights)\n",
    "plotter.plot_chainlist(result,G,'I0','K0')"
   ]
  },
  {
   "cell_type": "markdown",
   "id": "ea496e7a",
   "metadata": {},
   "source": [
    "Plot specific attributes"
   ]
  },
  {
   "cell_type": "code",
   "execution_count": null,
   "id": "152ff45c",
   "metadata": {},
   "outputs": [],
   "source": [
    "attr_list = ['Vgate','Vexc']\n",
    "plotter.plot_attributes(result, attr_list)"
   ]
  },
  {
   "cell_type": "markdown",
   "id": "1b45d2f4",
   "metadata": {},
   "source": [
    "We can be totally specific if we want. First we list the available columns to choose from"
   ]
  },
  {
   "cell_type": "code",
   "execution_count": null,
   "id": "f841dd97",
   "metadata": {},
   "outputs": [],
   "source": [
    "print(result.columns)"
   ]
  },
  {
   "cell_type": "code",
   "execution_count": null,
   "id": "f1efa013",
   "metadata": {},
   "outputs": [],
   "source": [
    "plotter.visualize_dynamic_result(result, ['H0-Iout','H0-Pout'])"
   ]
  },
  {
   "cell_type": "markdown",
   "id": "832d766d",
   "metadata": {},
   "source": [
    "We can also look in depth at the physical aspects of the node, like transistor IV and the LED efficiency."
   ]
  },
  {
   "cell_type": "code",
   "execution_count": null,
   "id": "6b34a072",
   "metadata": {},
   "outputs": [],
   "source": [
    "plotter.visualize_transistor(propagator.transistorIV_example())"
   ]
  },
  {
   "cell_type": "code",
   "execution_count": null,
   "id": "1a38601e",
   "metadata": {},
   "outputs": [],
   "source": [
    "plotter.visualize_LED_efficiency(propagator.eta_example(propagator.eta_ABC))"
   ]
  },
  {
   "cell_type": "code",
   "execution_count": null,
   "id": "1977709e",
   "metadata": {},
   "outputs": [],
   "source": []
  }
 ],
 "metadata": {
  "jupytext": {
   "formats": "ipynb,py:percent"
  },
  "kernelspec": {
   "display_name": "Python 3",
   "language": "python",
   "name": "python3"
  },
  "language_info": {
   "codemirror_mode": {
    "name": "ipython",
    "version": 3
   },
   "file_extension": ".py",
   "mimetype": "text/x-python",
   "name": "python",
   "nbconvert_exporter": "python",
   "pygments_lexer": "ipython3",
   "version": "3.9.7"
  }
 },
 "nbformat": 4,
 "nbformat_minor": 5
}
